{
 "cells": [
  {
   "cell_type": "markdown",
   "metadata": {},
   "source": [
    "# Números primos"
   ]
  },
  {
   "cell_type": "markdown",
   "metadata": {},
   "source": [
    "## Tarefa 2 (Grupo 7): \n",
    "1 - Implementar em qualquer linguagem se um valor de entrada é número primo. Existe melhor ou pior caso? Quais são? Abordar\n",
    "\n",
    "2 - Listar os números primos menores ou iguais ao valor de entrada. Existe melhor ou pior caso? Quais são? Abordar"
   ]
  },
  {
   "cell_type": "markdown",
   "metadata": {},
   "source": [
    "### Resolvendo a 1ª questão usando o teste de [Miller–Rabin](https://en.wikipedia.org/wiki/Miller%E2%80%93Rabin_primality_test)"
   ]
  },
  {
   "cell_type": "code",
   "execution_count": 1,
   "metadata": {},
   "outputs": [],
   "source": [
    "from math import sqrt\n",
    "def prime(n):\n",
    "    if n < 2: return False\n",
    "    for x in range(2, int(sqrt(n)) + 1):\n",
    "        if n % x == 0:\n",
    "            return False\n",
    "    return True"
   ]
  },
  {
   "cell_type": "code",
   "execution_count": 2,
   "metadata": {},
   "outputs": [
    {
     "data": {
      "text/plain": [
       "False"
      ]
     },
     "execution_count": 2,
     "metadata": {},
     "output_type": "execute_result"
    }
   ],
   "source": [
    " prime(100)"
   ]
  },
  {
   "cell_type": "markdown",
   "metadata": {},
   "source": [
    "### Caso de baixa complexidade\n",
    "(Explicar quando se tem uma baixa complexidade)"
   ]
  },
  {
   "cell_type": "code",
   "execution_count": 3,
   "metadata": {},
   "outputs": [
    {
     "name": "stdout",
     "output_type": "stream",
     "text": [
      "1.22 µs ± 25.1 ns per loop (mean ± std. dev. of 7 runs, 1000000 loops each)\n"
     ]
    }
   ],
   "source": [
    "n = 100 #Substituir 100 pelo valor do caso de baixa complexidade dado como exemplo\n",
    "%timeit prime(100) "
   ]
  },
  {
   "cell_type": "markdown",
   "metadata": {},
   "source": [
    "### Caso de média complexidade\n",
    "(Explicar quando se tem uma média complexidade)"
   ]
  },
  {
   "cell_type": "code",
   "execution_count": 4,
   "metadata": {},
   "outputs": [
    {
     "name": "stdout",
     "output_type": "stream",
     "text": [
      "1.24 µs ± 32.4 ns per loop (mean ± std. dev. of 7 runs, 1000000 loops each)\n"
     ]
    }
   ],
   "source": [
    "n = 100 #Substituir 100 pelo valor do caso de média complexidade dado como exemplo\n",
    "%timeit prime(100) "
   ]
  },
  {
   "cell_type": "markdown",
   "metadata": {},
   "source": [
    "### Caso de alta complexidade\n",
    "(Explicar quando se tem uma alta complexidade)"
   ]
  },
  {
   "cell_type": "code",
   "execution_count": 5,
   "metadata": {},
   "outputs": [
    {
     "name": "stdout",
     "output_type": "stream",
     "text": [
      "1.24 µs ± 28.4 ns per loop (mean ± std. dev. of 7 runs, 1000000 loops each)\n"
     ]
    }
   ],
   "source": [
    "n = 100 #Substituir 100 pelo valor do caso de alta complexidade dado como exemplo\n",
    "%timeit prime(100) "
   ]
  },
  {
   "cell_type": "markdown",
   "metadata": {},
   "source": [
    "### Gráficos"
   ]
  },
  {
   "cell_type": "code",
   "execution_count": 6,
   "metadata": {},
   "outputs": [
    {
     "data": {
      "image/png": "[encoded data removed]",
      "text/plain": [
       "<Figure size 432x288 with 1 Axes>"
      ]
     },
     "metadata": {
      "needs_background": "light"
     },
     "output_type": "display_data"
    }
   ],
   "source": [
    "%matplotlib inline\n",
    "import time\n",
    "import matplotlib.pyplot as plt\n",
    "times = []\n",
    "vector = range(2,200) #Mudar de acordo com os valores de baixa até complexidade alta\n",
    "for i in vector:\n",
    "    start = time.time()\n",
    "    prime(i)\n",
    "    end = time.time()\n",
    "    times.append((end - start)*1e9)\n",
    "    \n",
    "#Gerando Gráfico\n",
    "plt.figure()\n",
    "plt.plot(vector,times,'r')\n",
    "plt.xlabel(\"Prime Number\")\n",
    "plt.ylabel(\"Time (ns)\")\n",
    "plt.show()"
   ]
  },
  {
   "cell_type": "markdown",
   "metadata": {},
   "source": [
    "### Resolvendo a 2ª questão usando o teste do [Crivo de Eratostenes](https://pt.wikipedia.org/wiki/Crivo_de_Erat%C3%B3stenes)"
   ]
  },
  {
   "cell_type": "code",
   "execution_count": 7,
   "metadata": {},
   "outputs": [],
   "source": [
    "def sieveEratosthenes(n):\n",
    "    primes = []\n",
    "    \n",
    "    for i in range(2,n+1):\n",
    "        primes.append(i)\n",
    "    i = 2\n",
    "    \n",
    "    while(i <= int(sqrt(n))):\n",
    "        if i in primes:\n",
    "            for j in range(i*2, n+1, i):\n",
    "                if j in primes:\n",
    "                    primes.remove(j)\n",
    "        i = i+1\n",
    "    return(primes)"
   ]
  },
  {
   "cell_type": "code",
   "execution_count": 8,
   "metadata": {},
   "outputs": [
    {
     "name": "stdout",
     "output_type": "stream",
     "text": [
      "[2, 3, 5, 7]\n"
     ]
    }
   ],
   "source": [
    "print(sieveEratosthenes(10))"
   ]
  },
  {
   "cell_type": "markdown",
   "metadata": {},
   "source": [
    "### Caso de baixa complexidade\n",
    "(Explicar quando se tem uma baixa complexidade)"
   ]
  },
  {
   "cell_type": "code",
   "execution_count": 9,
   "metadata": {},
   "outputs": [
    {
     "name": "stdout",
     "output_type": "stream",
     "text": [
      "116 µs ± 4.9 µs per loop (mean ± std. dev. of 7 runs, 10000 loops each)\n"
     ]
    }
   ],
   "source": [
    "n = 100 #Substituir 100 pelo valor do caso de baixa complexidade dado como exemplo\n",
    "%timeit sieveEratosthenes(100) "
   ]
  },
  {
   "cell_type": "markdown",
   "metadata": {},
   "source": [
    "### Caso de média complexidade\n",
    "(Explicar quando se tem uma média complexidade)"
   ]
  },
  {
   "cell_type": "code",
   "execution_count": 10,
   "metadata": {},
   "outputs": [
    {
     "name": "stdout",
     "output_type": "stream",
     "text": [
      "135 µs ± 13.8 µs per loop (mean ± std. dev. of 7 runs, 10000 loops each)\n"
     ]
    }
   ],
   "source": [
    "n = 100 #Substituir 100 pelo valor do caso de baixa complexidade dado como exemplo\n",
    "%timeit sieveEratosthenes(100) "
   ]
  },
  {
   "cell_type": "markdown",
   "metadata": {},
   "source": [
    "### Caso de alta complexidade\n",
    "\n",
    "(Explicar quando se tem uma alta complexidade)\n"
   ]
  },
  {
   "cell_type": "code",
   "execution_count": 11,
   "metadata": {},
   "outputs": [
    {
     "name": "stdout",
     "output_type": "stream",
     "text": [
      "119 µs ± 4.79 µs per loop (mean ± std. dev. of 7 runs, 10000 loops each)\n"
     ]
    }
   ],
   "source": [
    "n = 100 #Substituir 100 pelo valor do caso de baixa complexidade dado como exemplo\n",
    "%timeit sieveEratosthenes(100) "
   ]
  },
  {
   "cell_type": "markdown",
   "metadata": {},
   "source": [
    "### Gráfico"
   ]
  },
  {
   "cell_type": "code",
   "execution_count": 12,
   "metadata": {},
   "outputs": [
    {
     "data": {
      "image/png": "[encoded data removed]",
      "text/plain": [
       "<Figure size 432x288 with 1 Axes>"
      ]
     },
     "metadata": {
      "needs_background": "light"
     },
     "output_type": "display_data"
    }
   ],
   "source": [
    "times = []\n",
    "vector = range(2,200) #Mudar de acordo com os valores de baixa até complexidade alta\n",
    "for i in vector:\n",
    "    start = time.time()\n",
    "    sieveEratosthenes(i)\n",
    "    end = time.time()\n",
    "    times.append((end - start)*1e9)\n",
    "    \n",
    "#Gerando Gráfico\n",
    "plt.figure()\n",
    "plt.plot(vector,times,'r')\n",
    "plt.xlabel(\"Until Prime Number\")\n",
    "plt.ylabel(\"Time (ns)\")\n",
    "plt.show()"
   ]
  },
  {
   "cell_type": "code",
   "execution_count": null,
   "metadata": {},
   "outputs": [],
   "source": []
  }
 ],
 "metadata": {
  "kernelspec": {
   "display_name": "Python 3",
   "language": "python",
   "name": "python3"
  },
  "language_info": {
   "codemirror_mode": {
    "name": "ipython",
    "version": 3
   },
   "file_extension": ".py",
   "mimetype": "text/x-python",
   "name": "python",
   "nbconvert_exporter": "python",
   "pygments_lexer": "ipython3",
   "version": "3.7.1"
  }
 },
 "nbformat": 4,
 "nbformat_minor": 2
}
